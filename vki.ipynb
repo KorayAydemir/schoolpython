{
 "cells": [
  {
   "cell_type": "code",
   "execution_count": null,
   "id": "17f1e834",
   "metadata": {},
   "outputs": [],
   "source": [
    "boy=int(input(\"Boyunuzu giriniz(cm cinsinden): \"))\n",
    "kilo=float(input(\"Kilonuzu giriniz(kg cinsinden): \"))\n",
    "vki=kilo/((boy/100)**2)\n",
    "print(\"Vücut kitle index'iniz {}\".format(round(vki,1)))\n",
    "if vki <=18.5:\n",
    "    print(\"Durumunuz: Zayıf\")\n",
    "    print(\"{} kilo almanız gerekiyor.\".format(round(18.5*((boy/100)**2)-kilo,1)))\n",
    "elif vki <=24.9:\n",
    "    print(\"Durumunuz: Normal\")\n",
    "elif vki<=29.9:\n",
    "    print(\"Durumunuz: Fazla kilolu, {} kilo vermeniz gerekiyor.\".format(round(kilo - 24.9 * ((boy / 100) ** 2)), 1))\n",
    "elif vki<=39.9:\n",
    "    print(\"Durumunuz: Obez, {} kilo vermeniz gerekiyor.\".format(round(kilo - 24.9 * ((boy / 100) ** 2)), 1))\n",
    "else:\n",
    "    print(\"Durumunuz: Aşırı obez, {} kilo vermeniz gerekiyor.\".format(round(kilo - 24.9 * ((boy / 100) ** 2)), 1))"
   ]
  }
 ],
 "metadata": {
  "kernelspec": {
   "display_name": "Python 3",
   "language": "python",
   "name": "python3"
  },
  "language_info": {
   "codemirror_mode": {
    "name": "ipython",
    "version": 3
   },
   "file_extension": ".py",
   "mimetype": "text/x-python",
   "name": "python",
   "nbconvert_exporter": "python",
   "pygments_lexer": "ipython3",
   "version": "3.10.9 (tags/v3.10.9:1dd9be6, Dec  6 2022, 20:01:21) [MSC v.1934 64 bit (AMD64)]"
  },
  "vscode": {
   "interpreter": {
    "hash": "a50c00c632e50bd53e8748533cf3911f55852561736100392c1c0fab524eb3fb"
   }
  }
 },
 "nbformat": 4,
 "nbformat_minor": 5
}
