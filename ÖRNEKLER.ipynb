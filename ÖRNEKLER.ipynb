{
 "cells": [
  {
   "cell_type": "code",
   "execution_count": 9,
   "id": "25d2fbe8",
   "metadata": {
    "scrolled": true
   },
   "outputs": [
    {
     "name": "stdout",
     "output_type": "stream",
     "text": [
      "Oyuncu Kaydetme Programı\n"
     ]
    },
    {
     "ename": "KeyboardInterrupt",
     "evalue": "Interrupted by user",
     "output_type": "error",
     "traceback": [
      "\u001b[1;31m---------------------------------------------------------------------------\u001b[0m",
      "\u001b[1;31mKeyboardInterrupt\u001b[0m                         Traceback (most recent call last)",
      "\u001b[1;32m~\\AppData\\Local\\Temp/ipykernel_17236/3545070205.py\u001b[0m in \u001b[0;36m<module>\u001b[1;34m\u001b[0m\n\u001b[0;32m      1\u001b[0m \u001b[0mprint\u001b[0m\u001b[1;33m(\u001b[0m\u001b[1;34m\"Oyuncu Kaydetme Programı\"\u001b[0m\u001b[1;33m)\u001b[0m\u001b[1;33m\u001b[0m\u001b[1;33m\u001b[0m\u001b[0m\n\u001b[0;32m      2\u001b[0m \u001b[1;33m\u001b[0m\u001b[0m\n\u001b[1;32m----> 3\u001b[1;33m \u001b[0mad\u001b[0m  \u001b[1;33m=\u001b[0m \u001b[0minput\u001b[0m\u001b[1;33m(\u001b[0m\u001b[1;34m\"Oyuncunun Adı:\"\u001b[0m\u001b[1;33m)\u001b[0m\u001b[1;33m\u001b[0m\u001b[1;33m\u001b[0m\u001b[0m\n\u001b[0m\u001b[0;32m      4\u001b[0m \u001b[0msoyad\u001b[0m \u001b[1;33m=\u001b[0m\u001b[0minput\u001b[0m\u001b[1;33m(\u001b[0m\u001b[1;34m\"Oyuncunun Soyadı:\"\u001b[0m\u001b[1;33m)\u001b[0m\u001b[1;33m\u001b[0m\u001b[1;33m\u001b[0m\u001b[0m\n\u001b[0;32m      5\u001b[0m \u001b[0mtakım\u001b[0m \u001b[1;33m=\u001b[0m \u001b[0minput\u001b[0m\u001b[1;33m(\u001b[0m\u001b[1;34m\"Oyuncunun  Takımı:\"\u001b[0m\u001b[1;33m)\u001b[0m\u001b[1;33m\u001b[0m\u001b[1;33m\u001b[0m\u001b[0m\n",
      "\u001b[1;32m~\\anaconda3\\lib\\site-packages\\ipykernel\\kernelbase.py\u001b[0m in \u001b[0;36mraw_input\u001b[1;34m(self, prompt)\u001b[0m\n\u001b[0;32m   1004\u001b[0m                 \u001b[1;34m\"raw_input was called, but this frontend does not support input requests.\"\u001b[0m\u001b[1;33m\u001b[0m\u001b[1;33m\u001b[0m\u001b[0m\n\u001b[0;32m   1005\u001b[0m             )\n\u001b[1;32m-> 1006\u001b[1;33m         return self._input_request(\n\u001b[0m\u001b[0;32m   1007\u001b[0m             \u001b[0mstr\u001b[0m\u001b[1;33m(\u001b[0m\u001b[0mprompt\u001b[0m\u001b[1;33m)\u001b[0m\u001b[1;33m,\u001b[0m\u001b[1;33m\u001b[0m\u001b[1;33m\u001b[0m\u001b[0m\n\u001b[0;32m   1008\u001b[0m             \u001b[0mself\u001b[0m\u001b[1;33m.\u001b[0m\u001b[0m_parent_ident\u001b[0m\u001b[1;33m[\u001b[0m\u001b[1;34m\"shell\"\u001b[0m\u001b[1;33m]\u001b[0m\u001b[1;33m,\u001b[0m\u001b[1;33m\u001b[0m\u001b[1;33m\u001b[0m\u001b[0m\n",
      "\u001b[1;32m~\\anaconda3\\lib\\site-packages\\ipykernel\\kernelbase.py\u001b[0m in \u001b[0;36m_input_request\u001b[1;34m(self, prompt, ident, parent, password)\u001b[0m\n\u001b[0;32m   1049\u001b[0m             \u001b[1;32mexcept\u001b[0m \u001b[0mKeyboardInterrupt\u001b[0m\u001b[1;33m:\u001b[0m\u001b[1;33m\u001b[0m\u001b[1;33m\u001b[0m\u001b[0m\n\u001b[0;32m   1050\u001b[0m                 \u001b[1;31m# re-raise KeyboardInterrupt, to truncate traceback\u001b[0m\u001b[1;33m\u001b[0m\u001b[1;33m\u001b[0m\u001b[0m\n\u001b[1;32m-> 1051\u001b[1;33m                 \u001b[1;32mraise\u001b[0m \u001b[0mKeyboardInterrupt\u001b[0m\u001b[1;33m(\u001b[0m\u001b[1;34m\"Interrupted by user\"\u001b[0m\u001b[1;33m)\u001b[0m \u001b[1;32mfrom\u001b[0m \u001b[1;32mNone\u001b[0m\u001b[1;33m\u001b[0m\u001b[1;33m\u001b[0m\u001b[0m\n\u001b[0m\u001b[0;32m   1052\u001b[0m             \u001b[1;32mexcept\u001b[0m \u001b[0mException\u001b[0m\u001b[1;33m:\u001b[0m\u001b[1;33m\u001b[0m\u001b[1;33m\u001b[0m\u001b[0m\n\u001b[0;32m   1053\u001b[0m                 \u001b[0mself\u001b[0m\u001b[1;33m.\u001b[0m\u001b[0mlog\u001b[0m\u001b[1;33m.\u001b[0m\u001b[0mwarning\u001b[0m\u001b[1;33m(\u001b[0m\u001b[1;34m\"Invalid Message:\"\u001b[0m\u001b[1;33m,\u001b[0m \u001b[0mexc_info\u001b[0m\u001b[1;33m=\u001b[0m\u001b[1;32mTrue\u001b[0m\u001b[1;33m)\u001b[0m\u001b[1;33m\u001b[0m\u001b[1;33m\u001b[0m\u001b[0m\n",
      "\u001b[1;31mKeyboardInterrupt\u001b[0m: Interrupted by user"
     ]
    }
   ],
   "source": [
    "print(\"Oyuncu Kaydetme Programı\")\n",
    "\n",
    "ad  = input(\"Oyuncunun Adı:\")\n",
    "soyad =input(\"Oyuncunun Soyadı:\")\n",
    "takım = input(\"Oyuncunun  Takımı:\")\n",
    "\n",
    "bilgiler = [ad,soyad,takım]\n",
    "\n",
    "print(\"Bilgiler Kaydediliyor....\")\n",
    "\n",
    "print(\"Oyuncu Adı: {}\\nOyuncu Soyadı: {}\\nOyuncunun Takımı: {}\\n\".format(bilgiler[0],bilgiler[1],bilgiler[2]))\n",
    "\n",
    "\n",
    "print(\"Bilgiler Kaydedildi.....\")\n"
   ]
  },
  {
   "cell_type": "code",
   "execution_count": null,
   "id": "218b7c6b",
   "metadata": {},
   "outputs": [],
   "source": [
    "import random\n",
    "\n",
    "# 0 ile 1 arasındaki rastgele sayı döndürür (0 <= x < 1.0)\n",
    "random.random()  # 0.38872204424977774\n",
    "\n",
    "# Verilen aralıkta herhangi bir ondalık sayı döndürür (a <= x < b)\n",
    "random.uniform(1,100)  # 52.19820527331601\n",
    "\n",
    "# Verilen tam sayı aralağında herhangi bir tamsayı değeri döndürür (a <= x < b)\n",
    "random.randint(1,100)  # 86\n",
    "\n",
    "# a, b, c için \n",
    "random.randrange(1,11,3). # 1"
   ]
  },
  {
   "cell_type": "code",
   "execution_count": null,
   "id": "773eb8b6",
   "metadata": {},
   "outputs": [],
   "source": [
    "import random"
   ]
  },
  {
   "cell_type": "code",
   "execution_count": 12,
   "id": "f2cf0c2c",
   "metadata": {},
   "outputs": [
    {
     "data": {
      "text/plain": [
       "0.20455992002540468"
      ]
     },
     "execution_count": 12,
     "metadata": {},
     "output_type": "execute_result"
    }
   ],
   "source": [
    "random.random()\n"
   ]
  },
  {
   "cell_type": "code",
   "execution_count": 14,
   "id": "df7435af",
   "metadata": {},
   "outputs": [
    {
     "data": {
      "text/plain": [
       "50.39732150104453"
      ]
     },
     "execution_count": 14,
     "metadata": {},
     "output_type": "execute_result"
    }
   ],
   "source": [
    "random.uniform(1,100)"
   ]
  },
  {
   "cell_type": "code",
   "execution_count": 30,
   "id": "8368c1c2",
   "metadata": {},
   "outputs": [],
   "source": [
    "# Python Random Modülü\n",
    "#https://medium.com/python/python-random-mod%C3%BCl%C3%BC-a0de3ec02ff"
   ]
  },
  {
   "cell_type": "code",
   "execution_count": null,
   "id": "baec5d98",
   "metadata": {},
   "outputs": [
    {
     "name": "stdout",
     "output_type": "stream",
     "text": [
      "****************************\n",
      "Taş Kağıt Makas Oyunu Oynama\n",
      "****************************\n",
      "Oyunun açıklaması için 1'e oyuna giriş için 2'ye basınız :1\n",
      "Oyunun Açıklaması = >\n",
      "    Klasik taş kağıt makas oyunu. \n",
      "    Kullanıcının seçim yaptığı andaki bilgisayarın kullandığıyla kullanıcının seçtiği karşılaştırılıyor. \n",
      "    Oyun, kullanıcı seçim ekranında 1 veya TAŞ, 2 VEYA KAĞIT, ya da 3 VEYA MAKAS dışında \n",
      "    bir veri girene kadar devam ediyor.\n",
      "    \n",
      "Oyunun açıklaması için 1'e oyuna giriş için 2'ye basınız :2\n",
      "1)TAŞ\n",
      "2)KAĞIT\n",
      "3)MAKAS\n",
      "Seçiniz =>1\n",
      "Ben kazandım, sen TAŞ yaptın = ben KAĞIT yaptım\n",
      "\n",
      "1)TAŞ\n",
      "2)KAĞIT\n",
      "3)MAKAS\n",
      "Seçiniz =>2\n",
      "Ben kazandım, sen KAĞIT yaptın = ben MAKAS yaptım\n",
      "\n",
      "1)TAŞ\n",
      "2)KAĞIT\n",
      "3)MAKAS\n",
      "Seçiniz =>3\n",
      "Sen kazandın, sen MAKAS yaptın = ben KAĞIT yaptım\n",
      "\n",
      "1)TAŞ\n",
      "2)KAĞIT\n",
      "3)MAKAS\n",
      "Seçiniz =>3\n",
      "Sen kazandın, sen MAKAS yaptın = ben KAĞIT yaptım\n",
      "\n"
     ]
    }
   ],
   "source": [
    "import random\n",
    "import time\n",
    "\n",
    "class BasitTasKagitMakasOyunu():\n",
    "    \n",
    "    def __init__(self):\n",
    "        self.secim()\n",
    "\n",
    "    def secim(self):\n",
    "        baslik = \"Taş Kağıt Makas Oyunu Oynama\"\n",
    "        print(\"*\" * len(baslik), baslik, \"*\" * len(baslik), sep=\"\\n\",end=\"\\n\")\n",
    "        while True:\n",
    "            tercih = input(\"Oyunun açıklaması için 1'e oyuna giriş için 2'ye basınız :\")\n",
    "\n",
    "            if tercih == \"1\":\n",
    "                self.oyunAciklamasi()\n",
    "            elif tercih ==\"2\":\n",
    "                self.tasKagitMakasOyunu()\n",
    "                break\n",
    "            else:\n",
    "                print(\"Geçersiz bir karaktere bastınız.. İşleminiz İPTAL ediliyor..\")\n",
    "                break\n",
    "\n",
    "    def oyunAciklamasi(self):\n",
    "        print(\"\"\"Oyunun Açıklaması = >\n",
    "    Klasik taş kağıt makas oyunu. \n",
    "    Kullanıcının seçim yaptığı andaki bilgisayarın kullandığıyla kullanıcının seçtiği karşılaştırılıyor. \n",
    "    Oyun, kullanıcı seçim ekranında 1 veya TAŞ, 2 VEYA KAĞIT, ya da 3 VEYA MAKAS dışında \n",
    "    bir veri girene kadar devam ediyor.\n",
    "    \"\"\")\n",
    "\n",
    "    def tasKagitMakasOyunu(self):\n",
    "\n",
    "        durumlar=[\"TAŞ\",\"KAĞIT\",\"MAKAS\",\"1\",\"2\",\"3\"]\n",
    "\n",
    "        while True:\n",
    "            kullanıcı = input(\"1){}\\n2){}\\n3){}\\nSeçiniz =>\".format(*durumlar)).upper()\n",
    "            bilgisayar = random.randrange(0,3)\n",
    "            sayı = -1\n",
    "\n",
    "            if kullanıcı in durumlar:\n",
    "                if kullanıcı == \"1\" or kullanıcı == \"TAŞ\":\n",
    "                    sayı = 0\n",
    "\n",
    "                elif kullanıcı == \"2\" or kullanıcı == \"KAĞIT\":\n",
    "                    sayı = 1\n",
    "\n",
    "                elif kullanıcı == \"3\" or kullanıcı == \"MAKAS\":\n",
    "                    sayı = 2\n",
    "\n",
    "                if sayı == bilgisayar:\n",
    "                    print(\"Berabere, sen {} yaptın = ben {} yaptım\".format(durumlar[sayı],durumlar[bilgisayar]))\n",
    "\n",
    "                elif sayı == 0 and bilgisayar == 2:\n",
    "                    print(\"Sen kazandın, sen {} yaptın = ben {} yaptım\".format(durumlar[sayı],durumlar[bilgisayar]))\n",
    "\n",
    "                elif sayı == 0 and bilgisayar == 1:\n",
    "                    print(\"Ben kazandım, sen {} yaptın = ben {} yaptım\".format(durumlar[sayı],durumlar[bilgisayar]))\n",
    "\n",
    "                elif sayı == 1 and bilgisayar == 2:\n",
    "                    print(\"Ben kazandım, sen {} yaptın = ben {} yaptım\".format(durumlar[sayı], durumlar[bilgisayar]))\n",
    "\n",
    "                elif sayı == 1 and bilgisayar == 0:\n",
    "                    print(\"Sen kazandın, sen {} yaptın = ben {} yaptım\".format(durumlar[sayı],durumlar[bilgisayar]))\n",
    "\n",
    "                elif sayı == 2 and bilgisayar == 1:\n",
    "                    print(\"Sen kazandın, sen {} yaptın = ben {} yaptım\".format(durumlar[sayı], durumlar[bilgisayar]))\n",
    "\n",
    "                elif sayı == 2 and bilgisayar == 0:\n",
    "                    print(\"Ben kazandım, sen {} yaptın = ben {} yaptım\".format(durumlar[sayı], durumlar[bilgisayar]))\n",
    "\n",
    "                print()\n",
    "            else:\n",
    "                print(\"Oyun Bitiriliyor :(\")\n",
    "                break\n",
    "\n",
    "if __name__ == \"__main__\":\n",
    "    BasitTasKagitMakasOyunu()\n",
    "    time.sleep(1)"
   ]
  },
  {
   "cell_type": "code",
   "execution_count": 31,
   "id": "a04a54c7",
   "metadata": {},
   "outputs": [
    {
     "name": "stdout",
     "output_type": "stream",
     "text": [
      "Bu bir örnek hesap makinesi uygulamasıdır.\n",
      "\n",
      "(1) topla işlemi\n",
      "(2) fark işlemi\n",
      "(3) çarpım işlemi\n",
      "(4) bölme işlemi\n",
      "(5) karesini hesaplama işlemi\n",
      "(6) kare kök hesaplama işlemi\n",
      "Çıkış için bu rakamlardan farklı bir tuşa basın!\n",
      "\n",
      "Yapmak istediğiniz işlemin numarasını giriniz : 2\n",
      "Çıkarılacak değerlerin ilkini girin:45\n",
      "Çıkarılacak değerlerin ikincisini girin:5\n",
      "Fark işleminin sonucu olarak 40 değeri bulunmuştur.\n",
      "\n",
      "Yapmak istediğiniz işlemin numarasını giriniz : g\n",
      "Kabul edilen bir işlem numarası girmediniz! Program kapatılıyor :(\n"
     ]
    }
   ],
   "source": [
    "import time\n",
    "\n",
    "baslık=\"Bu bir örnek hesap makinesi uygulamasıdır.\"\n",
    "giriş=\"\"\"\n",
    "(1) topla işlemi\n",
    "(2) fark işlemi\n",
    "(3) çarpım işlemi\n",
    "(4) bölme işlemi\n",
    "(5) karesini hesaplama işlemi\n",
    "(6) kare kök hesaplama işlemi\n",
    "Çıkış için bu rakamlardan farklı bir tuşa basın!\n",
    "\"\"\"\n",
    "\n",
    "yazilar = {\n",
    "\t\"1\":\"Toplama-Toplanacak değerlerin ilkini girin:\",\n",
    "\t\"11\":\"Toplanacak değerlerin ikincisini girin:\",\n",
    "\t\"2\":\"Fark-Çıkarılacak değerlerin ilkini girin:\",\n",
    "\t\"22\":\"Çıkarılacak değerlerin ikincisini girin:\",\n",
    "\t\"3\":\"Çarpım-Çarpılacak değerlerin ilkini girin:\",\n",
    "\t\"33\":\"Çarpılacak değerlerin ikincisini girin:\",\n",
    "\t\"4\":\"Bölme-Bölünen değeri girin:\",\n",
    "\t\"44\":\"Bölen değeri girin:\",\n",
    "\t\"5\":\"Kare Alma-Karesi alınacak değeri girin:\",\n",
    "\t\"6\":\"Kare Kök Alm-Kare kökü alınacak değeri girin:\"\n",
    "}\n",
    "\n",
    "print(baslık,giriş,sep=\"\\n\")\n",
    "\n",
    "\n",
    "while True:\n",
    "\n",
    "\tislem=input(\"Yapmak istediğiniz işlemin numarasını giriniz : \")\n",
    "\t\n",
    "\ttry:\n",
    "\t\tif islem in [\"1\",\"2\",\"3\",\"4\",\"5\",\"6\"]:\n",
    "\t\t\tsayi1=int(input(\"{}\".format(yazilar[islem].split(\"-\")[1])))\n",
    "\t\t\tif (islem+islem) in yazilar:\n",
    "\t\t\t\tsayi2=int(input(\"{}\".format(yazilar.get(islem+islem))))#get yerine [] kullansaydık islemislem olmadığında hata alırdık. Şimdi hata almayacağız\n",
    "\t\t\t\t#Sadece null değeri geri dönecek\n",
    "\texcept:\n",
    "\t\tprint(\"Bir tamsayı girilmedi. Tekrar deneyin!\\n\")\n",
    "\t\tcontinue\n",
    "\t\t\n",
    "\tif islem==\"1\":\n",
    "\t\tsonuc=sayi1+sayi2\n",
    "\telif islem==\"2\":\n",
    "\t\tsonuc=sayi1-sayi2\n",
    "\telif islem==\"3\":\n",
    "\t\tsonuc=sayi1*sayi2\n",
    "\telif islem==\"4\":\n",
    "\t\tsonuc=sayi1/sayi2\n",
    "\telif islem==\"5\":\n",
    "\t\tsonuc=sayi1**2\n",
    "\telif islem==\"6\":\n",
    "\t\tsonuc=sayi1**0.5\n",
    "\telse:\n",
    "\t\tprint(\"Kabul edilen bir işlem numarası girmediniz! Program kapatılıyor :(\")\n",
    "\t\ttime.sleep(5)\n",
    "\t\tbreak\n",
    "\n",
    "\tprint(\"{} işleminin sonucu olarak {} değeri bulunmuştur.\\n\".format(yazilar[islem].split(\"-\")[0],sonuc))"
   ]
  },
  {
   "cell_type": "code",
   "execution_count": 32,
   "id": "6239a030",
   "metadata": {},
   "outputs": [
    {
     "name": "stdout",
     "output_type": "stream",
     "text": [
      "********************\n",
      "ATM sistemine hoşgeldiniz\n",
      "********************\n",
      "\n",
      "İşlemler:\n",
      "\n",
      "1. Bakiye Sorgulama\n",
      "2. Para Yatırma\n",
      "3. Para Çekme\n",
      "\n",
      "Programdan 'q' tuşu ile çıkabilirsiniz.\n",
      "\n",
      "\n"
     ]
    },
    {
     "ename": "KeyboardInterrupt",
     "evalue": "Interrupted by user",
     "output_type": "error",
     "traceback": [
      "\u001b[1;31m---------------------------------------------------------------------------\u001b[0m",
      "\u001b[1;31mKeyboardInterrupt\u001b[0m                         Traceback (most recent call last)",
      "\u001b[1;32m~\\AppData\\Local\\Temp/ipykernel_17236/3199809325.py\u001b[0m in \u001b[0;36m<module>\u001b[1;34m\u001b[0m\n\u001b[0;32m     15\u001b[0m \u001b[1;33m\u001b[0m\u001b[0m\n\u001b[0;32m     16\u001b[0m \u001b[1;32mwhile\u001b[0m \u001b[1;32mTrue\u001b[0m\u001b[1;33m:\u001b[0m\u001b[1;33m\u001b[0m\u001b[1;33m\u001b[0m\u001b[0m\n\u001b[1;32m---> 17\u001b[1;33m     \u001b[0mişlem\u001b[0m \u001b[1;33m=\u001b[0m \u001b[0minput\u001b[0m\u001b[1;33m(\u001b[0m\u001b[1;34m\"İşlemi giriniz:\"\u001b[0m\u001b[1;33m)\u001b[0m\u001b[1;33m\u001b[0m\u001b[1;33m\u001b[0m\u001b[0m\n\u001b[0m\u001b[0;32m     18\u001b[0m \u001b[1;33m\u001b[0m\u001b[0m\n\u001b[0;32m     19\u001b[0m     \u001b[1;32mif\u001b[0m \u001b[1;33m(\u001b[0m\u001b[0mişlem\u001b[0m \u001b[1;33m==\u001b[0m \u001b[1;34m\"q\"\u001b[0m\u001b[1;33m)\u001b[0m\u001b[1;33m:\u001b[0m\u001b[1;33m\u001b[0m\u001b[1;33m\u001b[0m\u001b[0m\n",
      "\u001b[1;32m~\\anaconda3\\lib\\site-packages\\ipykernel\\kernelbase.py\u001b[0m in \u001b[0;36mraw_input\u001b[1;34m(self, prompt)\u001b[0m\n\u001b[0;32m   1004\u001b[0m                 \u001b[1;34m\"raw_input was called, but this frontend does not support input requests.\"\u001b[0m\u001b[1;33m\u001b[0m\u001b[1;33m\u001b[0m\u001b[0m\n\u001b[0;32m   1005\u001b[0m             )\n\u001b[1;32m-> 1006\u001b[1;33m         return self._input_request(\n\u001b[0m\u001b[0;32m   1007\u001b[0m             \u001b[0mstr\u001b[0m\u001b[1;33m(\u001b[0m\u001b[0mprompt\u001b[0m\u001b[1;33m)\u001b[0m\u001b[1;33m,\u001b[0m\u001b[1;33m\u001b[0m\u001b[1;33m\u001b[0m\u001b[0m\n\u001b[0;32m   1008\u001b[0m             \u001b[0mself\u001b[0m\u001b[1;33m.\u001b[0m\u001b[0m_parent_ident\u001b[0m\u001b[1;33m[\u001b[0m\u001b[1;34m\"shell\"\u001b[0m\u001b[1;33m]\u001b[0m\u001b[1;33m,\u001b[0m\u001b[1;33m\u001b[0m\u001b[1;33m\u001b[0m\u001b[0m\n",
      "\u001b[1;32m~\\anaconda3\\lib\\site-packages\\ipykernel\\kernelbase.py\u001b[0m in \u001b[0;36m_input_request\u001b[1;34m(self, prompt, ident, parent, password)\u001b[0m\n\u001b[0;32m   1049\u001b[0m             \u001b[1;32mexcept\u001b[0m \u001b[0mKeyboardInterrupt\u001b[0m\u001b[1;33m:\u001b[0m\u001b[1;33m\u001b[0m\u001b[1;33m\u001b[0m\u001b[0m\n\u001b[0;32m   1050\u001b[0m                 \u001b[1;31m# re-raise KeyboardInterrupt, to truncate traceback\u001b[0m\u001b[1;33m\u001b[0m\u001b[1;33m\u001b[0m\u001b[0m\n\u001b[1;32m-> 1051\u001b[1;33m                 \u001b[1;32mraise\u001b[0m \u001b[0mKeyboardInterrupt\u001b[0m\u001b[1;33m(\u001b[0m\u001b[1;34m\"Interrupted by user\"\u001b[0m\u001b[1;33m)\u001b[0m \u001b[1;32mfrom\u001b[0m \u001b[1;32mNone\u001b[0m\u001b[1;33m\u001b[0m\u001b[1;33m\u001b[0m\u001b[0m\n\u001b[0m\u001b[0;32m   1052\u001b[0m             \u001b[1;32mexcept\u001b[0m \u001b[0mException\u001b[0m\u001b[1;33m:\u001b[0m\u001b[1;33m\u001b[0m\u001b[1;33m\u001b[0m\u001b[0m\n\u001b[0;32m   1053\u001b[0m                 \u001b[0mself\u001b[0m\u001b[1;33m.\u001b[0m\u001b[0mlog\u001b[0m\u001b[1;33m.\u001b[0m\u001b[0mwarning\u001b[0m\u001b[1;33m(\u001b[0m\u001b[1;34m\"Invalid Message:\"\u001b[0m\u001b[1;33m,\u001b[0m \u001b[0mexc_info\u001b[0m\u001b[1;33m=\u001b[0m\u001b[1;32mTrue\u001b[0m\u001b[1;33m)\u001b[0m\u001b[1;33m\u001b[0m\u001b[1;33m\u001b[0m\u001b[0m\n",
      "\u001b[1;31mKeyboardInterrupt\u001b[0m: Interrupted by user"
     ]
    }
   ],
   "source": [
    "print(\"********************\\nATM sistemine hoşgeldiniz\\n********************\")\n",
    "\n",
    "print(\"\"\"\n",
    "İşlemler:\n",
    "\n",
    "1. Bakiye Sorgulama\n",
    "2. Para Yatırma\n",
    "3. Para Çekme\n",
    "\n",
    "Programdan 'q' tuşu ile çıkabilirsiniz.\n",
    "\n",
    "\"\"\")\n",
    "\n",
    "bakiye  = 1000 # Bakiyemiz 1000 lira olsun.\n",
    "\n",
    "while True:\n",
    "    işlem = input(\"İşlemi giriniz:\")\n",
    "\n",
    "    if (işlem == \"q\"):\n",
    "        print(\"Yine bekleriz....\")\n",
    "        break\n",
    "    elif (işlem == \"1\"):\n",
    "        print(\"Bakiyeniz {} tldir\".format(bakiye))\n",
    "    elif (işlem == \"2\"):\n",
    "        miktar = int(input(\"Yatırmak istediğiniz tutar:\"))\n",
    "\n",
    "        bakiye += miktar\n",
    "    elif (işlem == \"3\"):\n",
    "        miktar = int(input(\"Çekmek istediğiniz tutar:\"))\n",
    "        if (bakiye - miktar < 0 ):\n",
    "            print(\"Bu kadar para çekemezsiniz...\")\n",
    "            print(\"Bakiyeniz {} tldir\".format(bakiye))\n",
    "            continue\n",
    "        bakiye -= miktar\n",
    "\n",
    "    else:\n",
    "        print(\"Lütfen geçerli bir işlem giriniz.\")"
   ]
  },
  {
   "cell_type": "code",
   "execution_count": null,
   "id": "2d3e4ac9",
   "metadata": {},
   "outputs": [],
   "source": []
  }
 ],
 "metadata": {
  "kernelspec": {
   "display_name": "Python 3 (ipykernel)",
   "language": "python",
   "name": "python3"
  },
  "language_info": {
   "codemirror_mode": {
    "name": "ipython",
    "version": 3
   },
   "file_extension": ".py",
   "mimetype": "text/x-python",
   "name": "python",
   "nbconvert_exporter": "python",
   "pygments_lexer": "ipython3",
   "version": "3.9.7"
  }
 },
 "nbformat": 4,
 "nbformat_minor": 5
}
